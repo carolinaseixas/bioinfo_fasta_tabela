{
 "cells": [
  {
   "cell_type": "markdown",
   "id": "c3af64f4",
   "metadata": {},
   "source": [
    "# Transformando sequências fasta em tabela com bases separadas"
   ]
  },
  {
   "cell_type": "markdown",
   "id": "370e4f64",
   "metadata": {},
   "source": [
    "**Importante:** as múltiplas sequências do fasta deve estar alinhadas previamente para a tabela final ser útil na comparação das sequências"
   ]
  },
  {
   "cell_type": "markdown",
   "id": "f162f2b2",
   "metadata": {},
   "source": [
    "### Importações"
   ]
  },
  {
   "cell_type": "code",
   "execution_count": null,
   "id": "024fa3fb",
   "metadata": {},
   "outputs": [],
   "source": [
    "import pandas as pd #para criar as tabelas\n",
    "from tqdm import tqdm #para criar uma barra de progresso (útil para arquivos grandes)"
   ]
  },
  {
   "cell_type": "markdown",
   "id": "342e5aae",
   "metadata": {},
   "source": [
    "### Carregando o arquivo em uma variável"
   ]
  },
  {
   "cell_type": "markdown",
   "id": "2f9a4cbd",
   "metadata": {},
   "source": [
    "Não é o modo mais eficiente para arquivos de gigas, mas para arquivos um pouco menores funciona bem"
   ]
  },
  {
   "cell_type": "code",
   "execution_count": null,
   "id": "19c6b033",
   "metadata": {},
   "outputs": [],
   "source": [
    "fh = open('nome_do_arquivo.fasta', 'r') #substituir 'nome_do_arquivo' pelo nome do seu arquivo\n",
    "fasta = fh.read()\n",
    "fh.close()"
   ]
  },
  {
   "cell_type": "markdown",
   "id": "2b9954d1",
   "metadata": {},
   "source": [
    "### Transformando cada sequência em um item de uma lista"
   ]
  },
  {
   "cell_type": "code",
   "execution_count": null,
   "id": "3a6153e5",
   "metadata": {},
   "outputs": [],
   "source": [
    "lista_fasta = fasta.split('>')\n",
    "#usar del lista_fasta[0] se o primeiro item da lista for vazio"
   ]
  },
  {
   "cell_type": "markdown",
   "id": "de8ce541",
   "metadata": {},
   "source": [
    "### Criando um dicionário com as sequências da lista"
   ]
  },
  {
   "cell_type": "code",
   "execution_count": null,
   "id": "40f00a28",
   "metadata": {},
   "outputs": [],
   "source": [
    "#o padrão do dicionário será {id: sequência}\n",
    "\n",
    "dic_seq = {}\n",
    "\n",
    "for item in lista_fasta:\n",
    "    lista_linhas = item.split('\\n')\n",
    "    dic_seq[lista_linhas[0]] = ''.join(lista_linhas[1:])\n",
    "    \n",
    "#usar print(len(dic_seq)) se quiser conferir se todas as sequências estão no dicionário (mostra a quantidade de sequências)"
   ]
  },
  {
   "cell_type": "markdown",
   "id": "0148ba04",
   "metadata": {},
   "source": [
    "### Fragmentando a sequência e colocando cada base em uma coluna"
   ]
  },
  {
   "cell_type": "code",
   "execution_count": null,
   "id": "8f4f768f",
   "metadata": {},
   "outputs": [],
   "source": [
    "#Criando a barra de progresso e uma tabela vazia\n",
    "pbar = tqdm(total=len(dic_seq), position=0, leave=True)\n",
    "df_sequencias = pd.DataFrame()\n",
    "\n",
    "for codigo in dic_seq:\n",
    "    #separando as bases\n",
    "    bases = tuple(dic_seq[codigo])\n",
    "    \n",
    "    #colocando as bases na tabela sequências\n",
    "    pbar.update() #atualizando a barra de progresso\n",
    "    dados = {} #dicionário que irá conter os dados de uma sequência (uma linha da tabela)\n",
    "    for i, base in enumerate(bases):\n",
    "        dados['base'+str(i+1)] = base #preenchendo o dicionário com {base(i+1): base}\n",
    "        \n",
    "    df_parcial = pd.DataFrame(dados, index=[codigo]) #criando uma tabela de uma linha, com cada base da sequência em uma coluna\n",
    "    df_sequencias = pd.concat([df_sequencias, df_parcial]) #colocando a tabela de uma linha criada acima na tabela que conterá todas as sequências fragmentadas"
   ]
  },
  {
   "cell_type": "code",
   "execution_count": null,
   "id": "cc9472a9",
   "metadata": {},
   "outputs": [],
   "source": [
    "#salvando o arquivo que possui a sequência segmentada\n",
    "df_sequencias.to_csv('final_seq_segmentada.csv')"
   ]
  },
  {
   "cell_type": "code",
   "execution_count": null,
   "id": "7965d7b4",
   "metadata": {},
   "outputs": [],
   "source": []
  },
  {
   "cell_type": "code",
   "execution_count": null,
   "id": "c6043e9e",
   "metadata": {},
   "outputs": [],
   "source": []
  },
  {
   "cell_type": "code",
   "execution_count": null,
   "id": "6b4d3eb6",
   "metadata": {},
   "outputs": [],
   "source": []
  },
  {
   "cell_type": "code",
   "execution_count": null,
   "id": "968dd7f5",
   "metadata": {},
   "outputs": [],
   "source": []
  }
 ],
 "metadata": {
  "kernelspec": {
   "display_name": "Python 3 (ipykernel)",
   "language": "python",
   "name": "python3"
  },
  "language_info": {
   "codemirror_mode": {
    "name": "ipython",
    "version": 3
   },
   "file_extension": ".py",
   "mimetype": "text/x-python",
   "name": "python",
   "nbconvert_exporter": "python",
   "pygments_lexer": "ipython3",
   "version": "3.9.7"
  }
 },
 "nbformat": 4,
 "nbformat_minor": 5
}
